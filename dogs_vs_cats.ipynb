{
 "cells": [
  {
   "cell_type": "code",
   "execution_count": 1,
   "metadata": {},
   "outputs": [
    {
     "name": "stderr",
     "output_type": "stream",
     "text": [
      "Using TensorFlow backend.\n"
     ]
    }
   ],
   "source": [
    "import os, shutil, random, glob\n",
    "import cv2\n",
    "import numpy as np\n",
    "import pandas as pd\n",
    "\n",
    "# os.environ[\"CUDA_VISIBLE_DEVICES\"] = \"\"\n",
    "# CUDA_VISIBLE_DEVICES = 2\n",
    "\n",
    "import keras\n",
    "from keras.datasets import cifar10\n",
    "from keras.preprocessing.image import ImageDataGenerator\n",
    "from keras.models import Sequential\n",
    "from keras.layers import Dense, Dropout, Activation, Flatten\n",
    "from keras.layers import Conv2D, MaxPooling2D"
   ]
  },
  {
   "cell_type": "code",
   "execution_count": 2,
   "metadata": {},
   "outputs": [],
   "source": [
    "resize = 150\n",
    "def load_data():\n",
    "    imgs = os.listdir(\"./train/\")\n",
    "    num = len(imgs)\n",
    "    data = np.empty((3000, resize, resize, 3), dtype=\"int32\")\n",
    "    label = np.empty((3000, ), dtype=\"int32\")\n",
    "    for i in range(3000):\n",
    "        if i%2:\n",
    "            data[i] = cv2.resize(cv2.imread('./train/' + 'dog.' + str(i) + '.jpg'), (resize, resize))\n",
    "            label[i] = 1\n",
    "        else:\n",
    "            data[i] = cv2.resize(cv2.imread('./train/' + 'cat.' + str(i) + '.jpg'), (resize, resize))\n",
    "            label[i] = 0\n",
    "    return data,label"
   ]
  },
  {
   "cell_type": "code",
   "execution_count": 3,
   "metadata": {},
   "outputs": [],
   "source": [
    "data,label = load_data()\n",
    "data = data.astype('float32')\n",
    "data /= 255"
   ]
  },
  {
   "cell_type": "code",
   "execution_count": 4,
   "metadata": {},
   "outputs": [],
   "source": [
    "# y_train = keras.utils.to_categorical(y_train, 2)\n",
    "# y_val = keras.utils.to_categorical(y_val, 2)\n",
    "# label = keras.utils.to_categorical(label, 2)"
   ]
  },
  {
   "cell_type": "code",
   "execution_count": 5,
   "metadata": {
    "scrolled": false
   },
   "outputs": [],
   "source": [
    "model = Sequential()\n",
    "model.add(Conv2D(32, (3, 3), input_shape = (resize, resize, 3)))\n",
    "model.add(Activation('relu'))\n",
    "model.add(MaxPooling2D(pool_size=(2, 2)))\n",
    "\n",
    "model.add(Conv2D(32, (3, 3)))\n",
    "model.add(Activation('relu'))\n",
    "model.add(MaxPooling2D(pool_size=(2, 2)))\n",
    "\n",
    "model.add(Conv2D(64, (3, 3), padding='same'))\n",
    "model.add(Activation('relu'))\n",
    "model.add(Conv2D(64, (3, 3)))\n",
    "model.add(Activation('relu'))\n",
    "model.add(MaxPooling2D(pool_size=(2, 2)))\n",
    "model.add(Dropout(0.25))\n",
    "\n",
    "model.add(Flatten())\n",
    "model.add(Dense(64))\n",
    "model.add(Activation('relu'))\n",
    "model.add(Dropout(0.5))\n",
    "model.add(Dense(1))\n",
    "model.add(Activation('sigmoid'))\n",
    "\n",
    "model.compile(loss='binary_crossentropy',\n",
    "              optimizer='rmsprop',\n",
    "              metrics=['accuracy'])"
   ]
  },
  {
   "cell_type": "code",
   "execution_count": 10,
   "metadata": {
    "scrolled": false
   },
   "outputs": [
    {
     "name": "stdout",
     "output_type": "stream",
     "text": [
      "Train on 2400 samples, validate on 600 samples\n",
      "Epoch 1/30\n",
      "2400/2400 [==============================] - 2s 907us/step - loss: 0.0856 - acc: 0.9821 - val_loss: 1.5912 - val_acc: 0.7900\n",
      "Epoch 2/30\n",
      "2400/2400 [==============================] - 2s 637us/step - loss: 0.1474 - acc: 0.9646 - val_loss: 1.2177 - val_acc: 0.7750\n",
      "Epoch 3/30\n",
      "2400/2400 [==============================] - 2s 639us/step - loss: 0.0467 - acc: 0.9883 - val_loss: 1.1409 - val_acc: 0.7850\n",
      "Epoch 4/30\n",
      "2400/2400 [==============================] - 2s 627us/step - loss: 0.0478 - acc: 0.9900 - val_loss: 1.2283 - val_acc: 0.6900\n",
      "Epoch 5/30\n",
      "2400/2400 [==============================] - 2s 674us/step - loss: 0.0969 - acc: 0.9700 - val_loss: 1.4023 - val_acc: 0.7733\n",
      "Epoch 6/30\n",
      "2400/2400 [==============================] - 2s 629us/step - loss: 0.0568 - acc: 0.9875 - val_loss: 2.2483 - val_acc: 0.7650\n",
      "Epoch 7/30\n",
      "2400/2400 [==============================] - 2s 676us/step - loss: 0.1058 - acc: 0.9679 - val_loss: 1.3947 - val_acc: 0.7750\n",
      "Epoch 8/30\n",
      "2400/2400 [==============================] - 2s 630us/step - loss: 0.0813 - acc: 0.9808 - val_loss: 1.9802 - val_acc: 0.7733\n",
      "Epoch 9/30\n",
      "2400/2400 [==============================] - 2s 685us/step - loss: 0.0875 - acc: 0.9704 - val_loss: 1.8998 - val_acc: 0.7283\n",
      "Epoch 10/30\n",
      "2400/2400 [==============================] - 2s 635us/step - loss: 0.0733 - acc: 0.9788 - val_loss: 2.2384 - val_acc: 0.7683\n",
      "Epoch 11/30\n",
      "2400/2400 [==============================] - 2s 685us/step - loss: 0.0698 - acc: 0.9796 - val_loss: 1.7096 - val_acc: 0.7917\n",
      "Epoch 12/30\n",
      "2400/2400 [==============================] - 2s 631us/step - loss: 0.0750 - acc: 0.9821 - val_loss: 2.0381 - val_acc: 0.7917\n",
      "Epoch 13/30\n",
      "2400/2400 [==============================] - 2s 685us/step - loss: 0.0656 - acc: 0.9783 - val_loss: 1.3762 - val_acc: 0.7717\n",
      "Epoch 14/30\n",
      "2400/2400 [==============================] - 2s 632us/step - loss: 0.0572 - acc: 0.9863 - val_loss: 0.8865 - val_acc: 0.7483\n",
      "Epoch 15/30\n",
      "2400/2400 [==============================] - 2s 680us/step - loss: 0.0914 - acc: 0.9712 - val_loss: 2.1098 - val_acc: 0.7883\n",
      "Epoch 16/30\n",
      "2400/2400 [==============================] - 2s 625us/step - loss: 0.0610 - acc: 0.9833 - val_loss: 2.0984 - val_acc: 0.8050\n",
      "Epoch 17/30\n",
      "2400/2400 [==============================] - 2s 679us/step - loss: 0.0825 - acc: 0.9762 - val_loss: 2.2974 - val_acc: 0.7933\n",
      "Epoch 18/30\n",
      "2400/2400 [==============================] - 2s 635us/step - loss: 0.0724 - acc: 0.9829 - val_loss: 1.2148 - val_acc: 0.7633\n",
      "Epoch 19/30\n",
      "2400/2400 [==============================] - 2s 684us/step - loss: 0.0764 - acc: 0.9808 - val_loss: 1.9642 - val_acc: 0.7883\n",
      "Epoch 20/30\n",
      "2400/2400 [==============================] - 2s 634us/step - loss: 0.0701 - acc: 0.9787 - val_loss: 2.4433 - val_acc: 0.8000\n",
      "Epoch 21/30\n",
      "2400/2400 [==============================] - 2s 676us/step - loss: 0.0557 - acc: 0.9821 - val_loss: 1.8150 - val_acc: 0.7983\n",
      "Epoch 22/30\n",
      "2400/2400 [==============================] - 2s 632us/step - loss: 0.0689 - acc: 0.9804 - val_loss: 1.4106 - val_acc: 0.7967\n",
      "Epoch 23/30\n",
      "2400/2400 [==============================] - 2s 681us/step - loss: 0.0572 - acc: 0.9833 - val_loss: 2.0864 - val_acc: 0.7933\n",
      "Epoch 24/30\n",
      "2400/2400 [==============================] - 2s 629us/step - loss: 0.0646 - acc: 0.9879 - val_loss: 1.6561 - val_acc: 0.7567\n",
      "Epoch 25/30\n",
      "2400/2400 [==============================] - 2s 680us/step - loss: 0.0856 - acc: 0.9754 - val_loss: 2.1138 - val_acc: 0.8000\n",
      "Epoch 26/30\n",
      "2400/2400 [==============================] - 2s 628us/step - loss: 0.0547 - acc: 0.9871 - val_loss: 2.4884 - val_acc: 0.7750\n",
      "Epoch 27/30\n",
      "2400/2400 [==============================] - 2s 684us/step - loss: 0.0683 - acc: 0.9850 - val_loss: 1.9539 - val_acc: 0.7850\n",
      "Epoch 28/30\n",
      "2400/2400 [==============================] - 2s 633us/step - loss: 0.0633 - acc: 0.9879 - val_loss: 0.9541 - val_acc: 0.7900\n",
      "Epoch 29/30\n",
      "2400/2400 [==============================] - 2s 681us/step - loss: 0.1013 - acc: 0.9717 - val_loss: 1.9888 - val_acc: 0.7933\n",
      "Epoch 30/30\n",
      "2400/2400 [==============================] - 2s 633us/step - loss: 0.0392 - acc: 0.9896 - val_loss: 1.9233 - val_acc: 0.7917\n"
     ]
    },
    {
     "data": {
      "text/plain": [
       "<keras.callbacks.History at 0x7fe5a59c0ba8>"
      ]
     },
     "execution_count": 10,
     "metadata": {},
     "output_type": "execute_result"
    }
   ],
   "source": [
    "model.fit(data, label,\n",
    "          batch_size = 128,\n",
    "          epochs = 30,\n",
    "          validation_split = 0.2,\n",
    "          shuffle = True)"
   ]
  },
  {
   "cell_type": "code",
   "execution_count": 7,
   "metadata": {},
   "outputs": [],
   "source": [
    "test_length = len(os.listdir('./test/'))\n",
    "test_data = np.empty((test_length, resize, resize, 3), dtype=\"int32\")\n",
    "\n",
    "test_data = test_data.astype('float32')\n",
    "test_data /= 255\n",
    "\n",
    "##生成test image\n",
    "for file_name in os.listdir('./test/'):\n",
    "    index = int(file_name.split('.')[0]) - 1  #文件名和默认的index相差1\n",
    "    test_data[index] = cv2.resize(cv2.imread('./test/' + file_name), (resize, resize))"
   ]
  },
  {
   "cell_type": "code",
   "execution_count": 8,
   "metadata": {},
   "outputs": [],
   "source": [
    "test_label = model.predict(test_data)\n",
    "test_label = test_label.astype('int32')\n",
    "test_label = test_label.reshape(-1)\n",
    "index = np.arange(12500) + 1\n",
    "\n",
    "result = pd.DataFrame({'id': index, 'label': test_label})\n",
    "result.to_csv('result.csv', index = False)"
   ]
  },
  {
   "cell_type": "code",
   "execution_count": null,
   "metadata": {},
   "outputs": [],
   "source": []
  }
 ],
 "metadata": {
  "kernelspec": {
   "display_name": "Python 3",
   "language": "python",
   "name": "python3"
  },
  "language_info": {
   "codemirror_mode": {
    "name": "ipython",
    "version": 3
   },
   "file_extension": ".py",
   "mimetype": "text/x-python",
   "name": "python",
   "nbconvert_exporter": "python",
   "pygments_lexer": "ipython3",
   "version": "3.5.1+"
  }
 },
 "nbformat": 4,
 "nbformat_minor": 2
}
