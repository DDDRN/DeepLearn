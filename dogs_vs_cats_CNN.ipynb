{
 "cells": [
  {
   "cell_type": "code",
   "execution_count": 1,
   "metadata": {},
   "outputs": [
    {
     "name": "stderr",
     "output_type": "stream",
     "text": [
      "Using TensorFlow backend.\n"
     ]
    }
   ],
   "source": [
    "import os, shutil, random, glob\n",
    "import cv2\n",
    "import numpy as np\n",
    "import pandas as pd\n",
    "\n",
    "# os.environ[\"CUDA_VISIBLE_DEVICES\"] = \"2\"\n",
    "# CUDA_VISIBLE_DEVICES = 2\n",
    "\n",
    "import keras\n",
    "from keras.datasets import cifar10\n",
    "from keras.optimizers import SGD\n",
    "from keras.preprocessing.image import ImageDataGenerator\n",
    "from keras.models import Sequential\n",
    "from keras.layers import Dense, Dropout, Activation, Flatten\n",
    "from keras.layers import Conv2D, MaxPooling2D, ZeroPadding2D"
   ]
  },
  {
   "cell_type": "code",
   "execution_count": 2,
   "metadata": {},
   "outputs": [],
   "source": [
    "resize = 224\n",
    "def load_data():\n",
    "    imgs = os.listdir(\"./train/\")\n",
    "    num = len(imgs)\n",
    "    train_data = np.empty((5000, resize, resize, 3), dtype=\"int32\")\n",
    "    train_label = np.empty((5000, ), dtype=\"int32\")\n",
    "    test_data = np.empty((5000, resize, resize, 3), dtype=\"int32\")\n",
    "    test_label = np.empty((5000, ), dtype=\"int32\")\n",
    "    for i in range(5000):\n",
    "        if i % 2:\n",
    "            train_data[i] = cv2.resize(cv2.imread('./train/' + 'dog.' + str(i) + '.jpg'), (resize, resize))\n",
    "            train_label[i] = 1\n",
    "        else:\n",
    "            train_data[i] = cv2.resize(cv2.imread('./train/' + 'cat.' + str(i) + '.jpg'), (resize, resize))\n",
    "            train_label[i] = 0\n",
    "    for i in range(5001, 10000):\n",
    "        if i % 2:\n",
    "            test_data[i-5000] = cv2.resize(cv2.imread('./train/' + 'dog.' + str(i) + '.jpg'), (resize, resize))\n",
    "            test_label[i-5000] = 1\n",
    "        else:\n",
    "            test_data[i-5000] = cv2.resize(cv2.imread('./train/' + 'cat.' + str(i) + '.jpg'), (resize, resize))\n",
    "            test_label[i-5000] = 0\n",
    "    return train_data, train_label, test_data, test_label"
   ]
  },
  {
   "cell_type": "code",
   "execution_count": 3,
   "metadata": {},
   "outputs": [],
   "source": [
    "train_data, train_label, test_data, test_label = load_data()\n",
    "train_data, test_data = train_data.astype('float32'), test_data.astype('float32')\n",
    "train_data, test_data = train_data/255, test_data/255"
   ]
  },
  {
   "cell_type": "code",
   "execution_count": 4,
   "metadata": {},
   "outputs": [
    {
     "data": {
      "text/plain": [
       "(5000,)"
      ]
     },
     "execution_count": 4,
     "metadata": {},
     "output_type": "execute_result"
    }
   ],
   "source": [
    "# y_train = keras.utils.to_categorical(y_train, 2)\n",
    "# y_val = keras.utils.to_categorical(y_val, 2)\n",
    "# label = keras.utils.to_categorical(label, 2)\n",
    "test_label.shape"
   ]
  },
  {
   "cell_type": "code",
   "execution_count": 5,
   "metadata": {
    "scrolled": false
   },
   "outputs": [],
   "source": [
    "model = Sequential()\n",
    "model.add(Conv2D(32, (5, 5), input_shape = (resize, resize, 3)))\n",
    "model.add(Activation('relu'))\n",
    "model.add(MaxPooling2D(pool_size=(2, 2)))\n",
    "\n",
    "model.add(Conv2D(32, (5, 5)))\n",
    "model.add(Activation('relu'))\n",
    "model.add(MaxPooling2D(pool_size=(2, 2)))\n",
    "model.add(Dropout(0.25))\n",
    "\n",
    "model.add(Conv2D(64, (5, 5), padding='same'))\n",
    "model.add(Activation('relu'))\n",
    "model.add(Conv2D(64, (5, 5)))\n",
    "model.add(Activation('relu'))\n",
    "model.add(MaxPooling2D(pool_size=(2, 2)))\n",
    "model.add(Dropout(0.25))\n",
    "\n",
    "model.add(Flatten())\n",
    "model.add(Dense(64))\n",
    "model.add(Activation('relu'))\n",
    "model.add(Dropout(0.5))\n",
    "model.add(Dense(1))\n",
    "model.add(Activation('sigmoid'))\n",
    "\n",
    "model.compile(loss='binary_crossentropy',\n",
    "              optimizer='rmsprop',\n",
    "              metrics=['accuracy'])"
   ]
  },
  {
   "cell_type": "code",
   "execution_count": 6,
   "metadata": {
    "scrolled": false
   },
   "outputs": [
    {
     "name": "stdout",
     "output_type": "stream",
     "text": [
      "Train on 4000 samples, validate on 1000 samples\n",
      "Epoch 1/50\n",
      "4000/4000 [==============================] - 10s 3ms/step - loss: 0.7261 - acc: 0.5037 - val_loss: 1.3456 - val_acc: 0.5000\n",
      "Epoch 2/50\n",
      "4000/4000 [==============================] - 7s 2ms/step - loss: 0.7246 - acc: 0.5282 - val_loss: 0.6878 - val_acc: 0.5370\n",
      "Epoch 3/50\n",
      "4000/4000 [==============================] - 7s 2ms/step - loss: 0.6941 - acc: 0.5050 - val_loss: 0.6888 - val_acc: 0.5300\n",
      "Epoch 4/50\n",
      "4000/4000 [==============================] - 7s 2ms/step - loss: 0.7252 - acc: 0.5302 - val_loss: 0.6959 - val_acc: 0.5030\n",
      "Epoch 5/50\n",
      "4000/4000 [==============================] - 7s 2ms/step - loss: 0.7115 - acc: 0.5643 - val_loss: 0.6720 - val_acc: 0.6210\n",
      "Epoch 6/50\n",
      "4000/4000 [==============================] - 7s 2ms/step - loss: 0.6719 - acc: 0.6063 - val_loss: 0.6439 - val_acc: 0.6500\n",
      "Epoch 7/50\n",
      "4000/4000 [==============================] - 7s 2ms/step - loss: 0.6915 - acc: 0.6480 - val_loss: 0.9798 - val_acc: 0.5430\n",
      "Epoch 8/50\n",
      "4000/4000 [==============================] - 7s 2ms/step - loss: 0.6478 - acc: 0.6480 - val_loss: 0.6637 - val_acc: 0.6640\n",
      "Epoch 9/50\n",
      "4000/4000 [==============================] - 7s 2ms/step - loss: 0.6151 - acc: 0.6825 - val_loss: 0.6185 - val_acc: 0.6810\n",
      "Epoch 10/50\n",
      "4000/4000 [==============================] - 7s 2ms/step - loss: 0.6040 - acc: 0.6868 - val_loss: 0.6163 - val_acc: 0.6700\n",
      "Epoch 11/50\n",
      "4000/4000 [==============================] - 7s 2ms/step - loss: 0.5485 - acc: 0.7248 - val_loss: 0.6283 - val_acc: 0.6710\n",
      "Epoch 12/50\n",
      "4000/4000 [==============================] - 7s 2ms/step - loss: 0.5024 - acc: 0.7627 - val_loss: 0.5984 - val_acc: 0.7010\n",
      "Epoch 13/50\n",
      "4000/4000 [==============================] - 7s 2ms/step - loss: 0.5002 - acc: 0.7670 - val_loss: 0.5736 - val_acc: 0.7270\n",
      "Epoch 14/50\n",
      "4000/4000 [==============================] - 7s 2ms/step - loss: 0.4330 - acc: 0.8025 - val_loss: 0.6184 - val_acc: 0.7440\n",
      "Epoch 15/50\n",
      "4000/4000 [==============================] - 7s 2ms/step - loss: 0.3924 - acc: 0.8230 - val_loss: 0.6624 - val_acc: 0.7170\n",
      "Epoch 16/50\n",
      "4000/4000 [==============================] - 7s 2ms/step - loss: 0.3435 - acc: 0.8498 - val_loss: 0.7436 - val_acc: 0.7220\n",
      "Epoch 17/50\n",
      "4000/4000 [==============================] - 7s 2ms/step - loss: 0.3247 - acc: 0.8580 - val_loss: 0.9026 - val_acc: 0.7450\n",
      "Epoch 18/50\n",
      "4000/4000 [==============================] - 7s 2ms/step - loss: 0.2871 - acc: 0.8842 - val_loss: 0.7321 - val_acc: 0.7320\n",
      "Epoch 19/50\n",
      "4000/4000 [==============================] - 7s 2ms/step - loss: 0.2425 - acc: 0.9030 - val_loss: 0.9409 - val_acc: 0.6960\n",
      "Epoch 20/50\n",
      "4000/4000 [==============================] - 7s 2ms/step - loss: 0.2529 - acc: 0.8950 - val_loss: 0.9792 - val_acc: 0.7640\n",
      "Epoch 21/50\n",
      "4000/4000 [==============================] - 7s 2ms/step - loss: 0.2139 - acc: 0.9158 - val_loss: 0.9476 - val_acc: 0.7150\n",
      "Epoch 22/50\n",
      "4000/4000 [==============================] - 7s 2ms/step - loss: 0.1811 - acc: 0.9225 - val_loss: 1.2994 - val_acc: 0.7460\n",
      "Epoch 23/50\n",
      "4000/4000 [==============================] - 7s 2ms/step - loss: 0.1927 - acc: 0.9265 - val_loss: 1.3678 - val_acc: 0.7300\n",
      "Epoch 24/50\n",
      "4000/4000 [==============================] - 7s 2ms/step - loss: 0.1676 - acc: 0.9412 - val_loss: 1.5287 - val_acc: 0.7450\n",
      "Epoch 25/50\n",
      "4000/4000 [==============================] - 7s 2ms/step - loss: 0.1706 - acc: 0.9357 - val_loss: 1.2005 - val_acc: 0.7120\n",
      "Epoch 26/50\n",
      "4000/4000 [==============================] - 7s 2ms/step - loss: 0.1778 - acc: 0.9363 - val_loss: 1.5822 - val_acc: 0.7320\n",
      "Epoch 27/50\n",
      "4000/4000 [==============================] - 7s 2ms/step - loss: 0.1568 - acc: 0.9442 - val_loss: 1.0488 - val_acc: 0.7530\n",
      "Epoch 28/50\n",
      "4000/4000 [==============================] - 7s 2ms/step - loss: 0.1430 - acc: 0.9532 - val_loss: 1.9711 - val_acc: 0.7520\n",
      "Epoch 29/50\n",
      "4000/4000 [==============================] - 7s 2ms/step - loss: 0.1403 - acc: 0.9487 - val_loss: 1.4635 - val_acc: 0.7560\n",
      "Epoch 30/50\n",
      "4000/4000 [==============================] - 7s 2ms/step - loss: 0.1516 - acc: 0.9463 - val_loss: 1.6997 - val_acc: 0.7480\n",
      "Epoch 31/50\n",
      "4000/4000 [==============================] - 7s 2ms/step - loss: 0.1431 - acc: 0.9500 - val_loss: 0.7215 - val_acc: 0.7420\n",
      "Epoch 32/50\n",
      "4000/4000 [==============================] - 7s 2ms/step - loss: 0.1350 - acc: 0.9553 - val_loss: 2.1701 - val_acc: 0.7450\n",
      "Epoch 33/50\n",
      "4000/4000 [==============================] - 7s 2ms/step - loss: 0.1439 - acc: 0.9545 - val_loss: 1.2264 - val_acc: 0.7610\n",
      "Epoch 34/50\n",
      "4000/4000 [==============================] - 7s 2ms/step - loss: 0.1420 - acc: 0.9543 - val_loss: 1.5173 - val_acc: 0.7440\n",
      "Epoch 35/50\n",
      "4000/4000 [==============================] - 7s 2ms/step - loss: 0.1653 - acc: 0.9430 - val_loss: 0.6665 - val_acc: 0.7060\n",
      "Epoch 36/50\n",
      "4000/4000 [==============================] - 7s 2ms/step - loss: 0.1477 - acc: 0.9495 - val_loss: 0.9837 - val_acc: 0.7360\n",
      "Epoch 37/50\n",
      "4000/4000 [==============================] - 7s 2ms/step - loss: 0.1567 - acc: 0.9502 - val_loss: 2.4664 - val_acc: 0.7380\n",
      "Epoch 38/50\n",
      "4000/4000 [==============================] - 7s 2ms/step - loss: 0.1710 - acc: 0.9472 - val_loss: 1.8315 - val_acc: 0.7440\n",
      "Epoch 39/50\n",
      "4000/4000 [==============================] - 7s 2ms/step - loss: 0.1448 - acc: 0.9523 - val_loss: 1.6209 - val_acc: 0.7470\n",
      "Epoch 40/50\n",
      "4000/4000 [==============================] - 7s 2ms/step - loss: 0.1287 - acc: 0.9580 - val_loss: 2.3356 - val_acc: 0.7440\n",
      "Epoch 41/50\n",
      "4000/4000 [==============================] - 7s 2ms/step - loss: 0.1555 - acc: 0.9487 - val_loss: 1.8957 - val_acc: 0.7570\n",
      "Epoch 42/50\n",
      "4000/4000 [==============================] - 7s 2ms/step - loss: 0.1699 - acc: 0.9435 - val_loss: 0.8365 - val_acc: 0.7070\n",
      "Epoch 43/50\n",
      "4000/4000 [==============================] - 7s 2ms/step - loss: 0.1428 - acc: 0.9532 - val_loss: 1.0979 - val_acc: 0.7490\n",
      "Epoch 44/50\n",
      "4000/4000 [==============================] - 7s 2ms/step - loss: 0.2014 - acc: 0.9375 - val_loss: 1.8680 - val_acc: 0.7520\n",
      "Epoch 45/50\n",
      "4000/4000 [==============================] - 7s 2ms/step - loss: 0.1413 - acc: 0.9587 - val_loss: 1.4357 - val_acc: 0.7500\n",
      "Epoch 46/50\n",
      "4000/4000 [==============================] - 7s 2ms/step - loss: 0.1479 - acc: 0.9520 - val_loss: 0.7613 - val_acc: 0.7420\n",
      "Epoch 47/50\n",
      "4000/4000 [==============================] - 7s 2ms/step - loss: 0.1563 - acc: 0.9447 - val_loss: 2.1259 - val_acc: 0.7540\n",
      "Epoch 48/50\n",
      "4000/4000 [==============================] - 7s 2ms/step - loss: 0.1615 - acc: 0.9500 - val_loss: 0.9746 - val_acc: 0.7420\n",
      "Epoch 49/50\n",
      "4000/4000 [==============================] - 7s 2ms/step - loss: 0.1732 - acc: 0.9420 - val_loss: 1.5444 - val_acc: 0.7510\n",
      "Epoch 50/50\n",
      "4000/4000 [==============================] - 7s 2ms/step - loss: 0.1435 - acc: 0.9545 - val_loss: 1.9096 - val_acc: 0.7410\n"
     ]
    },
    {
     "data": {
      "text/plain": [
       "<keras.callbacks.History at 0x7fc20d44d5f8>"
      ]
     },
     "execution_count": 6,
     "metadata": {},
     "output_type": "execute_result"
    }
   ],
   "source": [
    "model.fit(train_data, train_label,\n",
    "          batch_size = 64,\n",
    "          epochs = 50,\n",
    "          validation_split = 0.2,\n",
    "          shuffle = True)"
   ]
  },
  {
   "cell_type": "code",
   "execution_count": 7,
   "metadata": {},
   "outputs": [
    {
     "name": "stdout",
     "output_type": "stream",
     "text": [
      "5000/5000 [==============================] - 4s 787us/step\n",
      "[0.4199573941525072, 0.9376]\n"
     ]
    }
   ],
   "source": [
    "scores = model.evaluate(train_data, train_label, verbose=1)\n",
    "print(scores)"
   ]
  },
  {
   "cell_type": "code",
   "execution_count": 8,
   "metadata": {},
   "outputs": [
    {
     "name": "stdout",
     "output_type": "stream",
     "text": [
      "5000/5000 [==============================] - 4s 785us/step\n",
      "[1.806115913772583, 0.7442]\n"
     ]
    }
   ],
   "source": [
    "scores = model.evaluate(test_data, test_label, verbose=1)\n",
    "print(scores)"
   ]
  },
  {
   "cell_type": "code",
   "execution_count": null,
   "metadata": {},
   "outputs": [],
   "source": []
  }
 ],
 "metadata": {
  "kernelspec": {
   "display_name": "Python 3",
   "language": "python",
   "name": "python3"
  },
  "language_info": {
   "codemirror_mode": {
    "name": "ipython",
    "version": 3
   },
   "file_extension": ".py",
   "mimetype": "text/x-python",
   "name": "python",
   "nbconvert_exporter": "python",
   "pygments_lexer": "ipython3",
   "version": "3.5.1+"
  }
 },
 "nbformat": 4,
 "nbformat_minor": 2
}
