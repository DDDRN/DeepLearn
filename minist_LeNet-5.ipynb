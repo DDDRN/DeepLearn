{
 "cells": [
  {
   "cell_type": "code",
   "execution_count": 1,
   "metadata": {},
   "outputs": [
    {
     "name": "stderr",
     "output_type": "stream",
     "text": [
      "Using TensorFlow backend.\n"
     ]
    }
   ],
   "source": [
    "from __future__ import print_function\n",
    "import keras\n",
    "from keras.datasets import mnist\n",
    "from keras.models import Sequential\n",
    "from keras.layers import Dense, Dropout, Flatten\n",
    "from keras.layers import Conv2D, MaxPooling2D\n",
    "from keras.optimizers import SGD\n",
    "from keras import backend as K\n",
    "import matplotlib.pyplot as plt"
   ]
  },
  {
   "cell_type": "code",
   "execution_count": 2,
   "metadata": {},
   "outputs": [
    {
     "data": {
      "text/plain": [
       "(60000, 28, 28)"
      ]
     },
     "execution_count": 2,
     "metadata": {},
     "output_type": "execute_result"
    }
   ],
   "source": [
    "batch_size = 128 #每一轮训练的batch大小\n",
    "num_classes = 10 #类型数量\n",
    "epochs = 12 #训练轮次数\n",
    "\n",
    "img_rows, img_cols = 28, 28 #MNIST数据集图像大小28*28\n",
    "\n",
    "(x_train, y_train), (x_test, y_test) = mnist.load_data() #载入数据集，数组是三维的\n",
    "x_train.shape"
   ]
  },
  {
   "cell_type": "code",
   "execution_count": 3,
   "metadata": {},
   "outputs": [
    {
     "data": {
      "text/plain": [
       "(60000,)"
      ]
     },
     "execution_count": 3,
     "metadata": {},
     "output_type": "execute_result"
    }
   ],
   "source": [
    "y_train.shape"
   ]
  },
  {
   "cell_type": "code",
   "execution_count": 4,
   "metadata": {},
   "outputs": [
    {
     "data": {
      "text/plain": [
       "(60000, 28, 28, 1)"
      ]
     },
     "execution_count": 4,
     "metadata": {},
     "output_type": "execute_result"
    }
   ],
   "source": [
    "# reshape\n",
    "if K.image_data_format() == 'channels_first': #查看环境下的image_data_format()值是'channels_first'还是'channels_last'\n",
    "    x_train = x_train.reshape(x_train.shape[0], 1, img_rows, img_cols)\n",
    "    x_test = x_test.reshape(x_test.shape[0], 1, img_rows, img_cols)\n",
    "    input_shape = (1, img_rows, img_cols)\n",
    "else:\n",
    "    x_train = x_train.reshape(x_train.shape[0], img_rows, img_cols, 1) #按照Keras要求把数据集转化为加入通道数的四位\n",
    "    x_test = x_test.reshape(x_test.shape[0], img_rows, img_cols, 1) #黑白图像，channel数为1\n",
    "    input_shape = (img_rows, img_cols, 1)\n",
    "x_train.shape"
   ]
  },
  {
   "cell_type": "code",
   "execution_count": 5,
   "metadata": {},
   "outputs": [
    {
     "data": {
      "image/png": "[encoded data removed]",
      "text/plain": [
       "<Figure size 432x288 with 1 Axes>"
      ]
     },
     "metadata": {},
     "output_type": "display_data"
    }
   ],
   "source": [
    "fig = plt.figure()\n",
    "plt.imshow(x_train[0, :, :, 0],cmap = 'binary')#黑白显示\n",
    "plt.show()"
   ]
  },
  {
   "cell_type": "code",
   "execution_count": 6,
   "metadata": {},
   "outputs": [
    {
     "name": "stdout",
     "output_type": "stream",
     "text": [
      "x_train shape: (60000, 28, 28, 1)\n",
      "60000 train samples\n",
      "10000 test samples\n"
     ]
    }
   ],
   "source": [
    "x_train = x_train.astype('float32') #按照Keras要求把数据集由整形转化为浮点型\n",
    "x_test = x_test.astype('float32')\n",
    "x_train /= 255 #像素值除以255，转化为小数，加速收敛\n",
    "x_test /= 255\n",
    "print('x_train shape:', x_train.shape)\n",
    "print(x_train.shape[0], 'train samples')\n",
    "print(x_test.shape[0], 'test samples')"
   ]
  },
  {
   "cell_type": "code",
   "execution_count": 7,
   "metadata": {},
   "outputs": [
    {
     "data": {
      "text/plain": [
       "5"
      ]
     },
     "execution_count": 7,
     "metadata": {},
     "output_type": "execute_result"
    }
   ],
   "source": [
    "y_train[0]"
   ]
  },
  {
   "cell_type": "code",
   "execution_count": 8,
   "metadata": {},
   "outputs": [],
   "source": [
    "y_train = keras.utils.to_categorical(y_train, num_classes) # 将label进行one-hot编码\n",
    "y_test = keras.utils.to_categorical(y_test, num_classes)"
   ]
  },
  {
   "cell_type": "code",
   "execution_count": 9,
   "metadata": {},
   "outputs": [
    {
     "data": {
      "text/plain": [
       "array([0., 0., 0., 0., 0., 1., 0., 0., 0., 0.], dtype=float32)"
      ]
     },
     "execution_count": 9,
     "metadata": {},
     "output_type": "execute_result"
    }
   ],
   "source": [
    "y_train[0]"
   ]
  },
  {
   "cell_type": "code",
   "execution_count": 10,
   "metadata": {},
   "outputs": [],
   "source": [
    "model = Sequential()\n",
    "model.add(Conv2D(filters=6, kernel_size=(5,5), \n",
    "                 padding='valid', \n",
    "                 input_shape=input_shape, \n",
    "                 activation='tanh'))\n",
    "model.add(MaxPooling2D(pool_size=(2,2)))\n",
    "model.add(Conv2D(filters=16, kernel_size=(5,5), \n",
    "                 padding='valid', \n",
    "                 activation='tanh')) #双曲正切函数作激活函数 tanhx = (e^x-e^-x)/(e^x+e^-x)\n",
    "model.add(MaxPooling2D(pool_size=(2,2)))\n",
    "model.add(Flatten())\n",
    "model.add(Dense(120, activation='tanh'))\n",
    "model.add(Dense(84, activation='tanh'))\n",
    "model.add(Dense(10, activation='softmax')) #softmax函数做激活函数 e^x/(sum(e^x))\n",
    "\n",
    "sgd = SGD(lr=0.05, decay=1e-6, momentum=0.9, nesterov=True) #采用随机梯度下降法作为优化算法\n",
    "model.compile(optimizer=sgd, \n",
    "              loss='categorical_crossentropy', #多分类的对数损失函数 -logP(Y|X)\n",
    "              metrics=['accuracy'])"
   ]
  },
  {
   "cell_type": "code",
   "execution_count": 11,
   "metadata": {},
   "outputs": [
    {
     "name": "stdout",
     "output_type": "stream",
     "text": [
      "Train on 48000 samples, validate on 12000 samples\n",
      "Epoch 1/12\n",
      "48000/48000 [==============================] - 6s 130us/step - loss: 0.2031 - acc: 0.9398 - val_loss: 0.0815 - val_acc: 0.9768\n",
      "Epoch 2/12\n",
      "48000/48000 [==============================] - 4s 89us/step - loss: 0.0602 - acc: 0.9817 - val_loss: 0.0570 - val_acc: 0.9831\n",
      "Epoch 3/12\n",
      "48000/48000 [==============================] - 4s 86us/step - loss: 0.0419 - acc: 0.9875 - val_loss: 0.0490 - val_acc: 0.9858\n",
      "Epoch 4/12\n",
      "48000/48000 [==============================] - 4s 88us/step - loss: 0.0297 - acc: 0.9909 - val_loss: 0.0517 - val_acc: 0.9843\n",
      "Epoch 5/12\n",
      "48000/48000 [==============================] - 4s 88us/step - loss: 0.0220 - acc: 0.9935 - val_loss: 0.0449 - val_acc: 0.9864\n",
      "Epoch 6/12\n",
      "48000/48000 [==============================] - 4s 87us/step - loss: 0.0164 - acc: 0.9950 - val_loss: 0.0558 - val_acc: 0.9835\n",
      "Epoch 7/12\n",
      "48000/48000 [==============================] - 4s 86us/step - loss: 0.0131 - acc: 0.9960 - val_loss: 0.0497 - val_acc: 0.9868\n",
      "Epoch 8/12\n",
      "48000/48000 [==============================] - 4s 87us/step - loss: 0.0089 - acc: 0.9976 - val_loss: 0.0439 - val_acc: 0.9887\n",
      "Epoch 9/12\n",
      "48000/48000 [==============================] - 4s 87us/step - loss: 0.0065 - acc: 0.9985 - val_loss: 0.0409 - val_acc: 0.9893\n",
      "Epoch 10/12\n",
      "48000/48000 [==============================] - 4s 88us/step - loss: 0.0045 - acc: 0.9991 - val_loss: 0.0428 - val_acc: 0.9888\n",
      "Epoch 11/12\n",
      "48000/48000 [==============================] - 4s 87us/step - loss: 0.0031 - acc: 0.9996 - val_loss: 0.0427 - val_acc: 0.9885\n",
      "Epoch 12/12\n",
      "48000/48000 [==============================] - 4s 87us/step - loss: 0.0030 - acc: 0.9995 - val_loss: 0.0461 - val_acc: 0.9887\n"
     ]
    },
    {
     "data": {
      "text/plain": [
       "<keras.callbacks.History at 0x7fcbe1544278>"
      ]
     },
     "execution_count": 11,
     "metadata": {},
     "output_type": "execute_result"
    }
   ],
   "source": [
    "model.fit(x_train, y_train,\n",
    "          batch_size=batch_size,\n",
    "          epochs=epochs,\n",
    "          validation_split = 0.2,\n",
    "          shuffle=True) #训练数据会被随即打乱"
   ]
  },
  {
   "cell_type": "code",
   "execution_count": 12,
   "metadata": {},
   "outputs": [
    {
     "name": "stdout",
     "output_type": "stream",
     "text": [
      "Test loss: 0.013026060899986865\n",
      "Test accuracy: 0.9966666666666667\n"
     ]
    }
   ],
   "source": [
    "score = model.evaluate(x_train, y_train, verbose=0)\n",
    "print('Test loss:', score[0])\n",
    "print('Test accuracy:', score[1])"
   ]
  },
  {
   "cell_type": "code",
   "execution_count": 13,
   "metadata": {},
   "outputs": [
    {
     "name": "stdout",
     "output_type": "stream",
     "text": [
      "Test loss: 0.040405174139036534\n",
      "Test accuracy: 0.9885\n"
     ]
    }
   ],
   "source": [
    "score = model.evaluate(x_test, y_test, verbose=0)\n",
    "print('Test loss:', score[0])\n",
    "print('Test accuracy:', score[1])"
   ]
  },
  {
   "cell_type": "code",
   "execution_count": null,
   "metadata": {},
   "outputs": [],
   "source": []
  }
 ],
 "metadata": {
  "kernelspec": {
   "display_name": "Python 3",
   "language": "python",
   "name": "python3"
  },
  "language_info": {
   "codemirror_mode": {
    "name": "ipython",
    "version": 3
   },
   "file_extension": ".py",
   "mimetype": "text/x-python",
   "name": "python",
   "nbconvert_exporter": "python",
   "pygments_lexer": "ipython3",
   "version": "3.5.1+"
  }
 },
 "nbformat": 4,
 "nbformat_minor": 2
}
