{
 "cells": [
  {
   "cell_type": "code",
   "execution_count": 7,
   "metadata": {},
   "outputs": [],
   "source": [
    "import os, shutil, random, glob\n",
    "import cv2\n",
    "import numpy as np\n",
    "import pandas as pd\n",
    "\n",
    "from keras.utils import plot_model  \n",
    "from keras.applications.resnet50 import ResNet50  \n",
    "from keras.applications.vgg16 import VGG16  \n",
    "from keras.applications.inception_v3 import InceptionV3  \n",
    "from keras.layers import Dense, Flatten, GlobalAveragePooling2D, Dropout\n",
    "from keras.models import Model, load_model  \n",
    "from keras.optimizers import SGD  \n",
    "from keras.preprocessing.image import ImageDataGenerator  \n",
    "import matplotlib.pyplot as plt  "
   ]
  },
  {
   "cell_type": "code",
   "execution_count": 8,
   "metadata": {},
   "outputs": [],
   "source": [
    "resize = 224\n",
    "def load_data():\n",
    "    imgs = os.listdir(\"./train/\")\n",
    "    num = len(imgs)\n",
    "    train_data = np.empty((5000, resize, resize, 3), dtype=\"int32\")\n",
    "    train_label = np.empty((5000, ), dtype=\"int32\")\n",
    "    test_data = np.empty((5000, resize, resize, 3), dtype=\"int32\")\n",
    "    test_label = np.empty((5000, ), dtype=\"int32\")\n",
    "    for i in range(5000):\n",
    "        if i % 2:\n",
    "            train_data[i] = cv2.resize(cv2.imread('./train/' + 'dog.' + str(i) + '.jpg'), (resize, resize))\n",
    "            train_label[i] = 1\n",
    "        else:\n",
    "            train_data[i] = cv2.resize(cv2.imread('./train/' + 'cat.' + str(i) + '.jpg'), (resize, resize))\n",
    "            train_label[i] = 0\n",
    "    for i in range(5001, 10000):\n",
    "        if i % 2:\n",
    "            test_data[i-5000] = cv2.resize(cv2.imread('./train/' + 'dog.' + str(i) + '.jpg'), (resize, resize))\n",
    "            test_label[i-5000] = 1\n",
    "        else:\n",
    "            test_data[i-5000] = cv2.resize(cv2.imread('./train/' + 'cat.' + str(i) + '.jpg'), (resize, resize))\n",
    "            test_label[i-5000] = 0\n",
    "    return train_data, train_label, test_data, test_label"
   ]
  },
  {
   "cell_type": "code",
   "execution_count": 9,
   "metadata": {},
   "outputs": [],
   "source": [
    "train_data, train_label, test_data, test_label = load_data()\n",
    "train_data, test_data = train_data.astype('float32'), test_data.astype('float32')\n",
    "train_data, test_data = train_data/255, test_data/255"
   ]
  },
  {
   "cell_type": "code",
   "execution_count": 10,
   "metadata": {},
   "outputs": [
    {
     "data": {
      "text/plain": [
       "(5000,)"
      ]
     },
     "execution_count": 10,
     "metadata": {},
     "output_type": "execute_result"
    }
   ],
   "source": [
    "test_label.shape"
   ]
  },
  {
   "cell_type": "code",
   "execution_count": 11,
   "metadata": {
    "scrolled": false
   },
   "outputs": [],
   "source": [
    "base_model = VGG16(weights='imagenet', include_top=False, pooling=None, input_shape=(resize, resize, 3), classes = 2)\n",
    "for layer in base_model.layers:\n",
    "    layer.trainable = False\n",
    "x = base_model.output\n",
    "x = GlobalAveragePooling2D()(x)\n",
    "x = Dense(64, activation='relu')(x)\n",
    "x = Dropout(0.5)(x)\n",
    "predictions = Dense(1, activation='sigmoid')(x)\n",
    "\n",
    "model = Model(inputs=base_model.input, outputs=predictions)\n",
    "model.compile(loss='binary_crossentropy',\n",
    "              optimizer='rmsprop',\n",
    "              metrics=['accuracy'])"
   ]
  },
  {
   "cell_type": "code",
   "execution_count": 12,
   "metadata": {},
   "outputs": [
    {
     "name": "stdout",
     "output_type": "stream",
     "text": [
      "Train on 4000 samples, validate on 1000 samples\n",
      "Epoch 1/50\n",
      "4000/4000 [==============================] - 17s 4ms/step - loss: 0.5594 - acc: 0.7343 - val_loss: 0.4125 - val_acc: 0.8770\n",
      "Epoch 2/50\n",
      "4000/4000 [==============================] - 14s 4ms/step - loss: 0.3915 - acc: 0.8420 - val_loss: 0.3402 - val_acc: 0.8540\n",
      "Epoch 3/50\n",
      "4000/4000 [==============================] - 14s 4ms/step - loss: 0.3108 - acc: 0.8772 - val_loss: 0.2534 - val_acc: 0.9040\n",
      "Epoch 4/50\n",
      "4000/4000 [==============================] - 14s 4ms/step - loss: 0.2658 - acc: 0.8930 - val_loss: 0.2869 - val_acc: 0.8660\n",
      "Epoch 5/50\n",
      "4000/4000 [==============================] - 14s 4ms/step - loss: 0.2365 - acc: 0.9060 - val_loss: 0.2318 - val_acc: 0.9080\n",
      "Epoch 6/50\n",
      "4000/4000 [==============================] - 14s 4ms/step - loss: 0.2238 - acc: 0.9105 - val_loss: 0.2227 - val_acc: 0.9090\n",
      "Epoch 7/50\n",
      "4000/4000 [==============================] - 14s 4ms/step - loss: 0.2107 - acc: 0.9145 - val_loss: 0.1919 - val_acc: 0.9150\n",
      "Epoch 8/50\n",
      "4000/4000 [==============================] - 14s 4ms/step - loss: 0.2033 - acc: 0.9215 - val_loss: 0.1719 - val_acc: 0.9340\n",
      "Epoch 9/50\n",
      "4000/4000 [==============================] - 14s 4ms/step - loss: 0.1912 - acc: 0.9233 - val_loss: 0.1717 - val_acc: 0.9360\n",
      "Epoch 10/50\n",
      "4000/4000 [==============================] - 14s 4ms/step - loss: 0.1904 - acc: 0.9273 - val_loss: 0.1610 - val_acc: 0.9330\n",
      "Epoch 11/50\n",
      "4000/4000 [==============================] - 14s 4ms/step - loss: 0.1832 - acc: 0.9278 - val_loss: 0.1784 - val_acc: 0.9330\n",
      "Epoch 12/50\n",
      "4000/4000 [==============================] - 14s 4ms/step - loss: 0.1788 - acc: 0.9275 - val_loss: 0.1772 - val_acc: 0.9180\n",
      "Epoch 13/50\n",
      "4000/4000 [==============================] - 14s 4ms/step - loss: 0.1742 - acc: 0.9267 - val_loss: 0.1576 - val_acc: 0.9330\n",
      "Epoch 14/50\n",
      "4000/4000 [==============================] - 14s 4ms/step - loss: 0.1737 - acc: 0.9350 - val_loss: 0.1540 - val_acc: 0.9330\n",
      "Epoch 15/50\n",
      "4000/4000 [==============================] - 14s 4ms/step - loss: 0.1654 - acc: 0.9347 - val_loss: 0.1774 - val_acc: 0.9190\n",
      "Epoch 16/50\n",
      "4000/4000 [==============================] - 14s 4ms/step - loss: 0.1680 - acc: 0.9323 - val_loss: 0.1501 - val_acc: 0.9370\n",
      "Epoch 17/50\n",
      "4000/4000 [==============================] - 14s 4ms/step - loss: 0.1602 - acc: 0.9353 - val_loss: 0.1623 - val_acc: 0.9230\n",
      "Epoch 18/50\n",
      "4000/4000 [==============================] - 14s 4ms/step - loss: 0.1563 - acc: 0.9335 - val_loss: 0.1730 - val_acc: 0.9170\n",
      "Epoch 19/50\n",
      "4000/4000 [==============================] - 14s 4ms/step - loss: 0.1579 - acc: 0.9357 - val_loss: 0.1622 - val_acc: 0.9370\n",
      "Epoch 20/50\n",
      "4000/4000 [==============================] - 14s 4ms/step - loss: 0.1540 - acc: 0.9368 - val_loss: 0.1599 - val_acc: 0.9230\n",
      "Epoch 21/50\n",
      "4000/4000 [==============================] - 14s 4ms/step - loss: 0.1501 - acc: 0.9393 - val_loss: 0.1517 - val_acc: 0.9340\n",
      "Epoch 22/50\n",
      "4000/4000 [==============================] - 14s 4ms/step - loss: 0.1496 - acc: 0.9395 - val_loss: 0.1512 - val_acc: 0.9370\n",
      "Epoch 23/50\n",
      "4000/4000 [==============================] - 14s 4ms/step - loss: 0.1486 - acc: 0.9415 - val_loss: 0.1692 - val_acc: 0.9210\n",
      "Epoch 24/50\n",
      "4000/4000 [==============================] - 14s 4ms/step - loss: 0.1483 - acc: 0.9390 - val_loss: 0.1465 - val_acc: 0.9400\n",
      "Epoch 25/50\n",
      "4000/4000 [==============================] - 14s 4ms/step - loss: 0.1452 - acc: 0.9397 - val_loss: 0.1508 - val_acc: 0.9390\n",
      "Epoch 26/50\n",
      "4000/4000 [==============================] - 14s 4ms/step - loss: 0.1428 - acc: 0.9450 - val_loss: 0.1532 - val_acc: 0.9360\n",
      "Epoch 27/50\n",
      "4000/4000 [==============================] - 14s 4ms/step - loss: 0.1411 - acc: 0.9447 - val_loss: 0.1473 - val_acc: 0.9370\n",
      "Epoch 28/50\n",
      "4000/4000 [==============================] - 14s 4ms/step - loss: 0.1393 - acc: 0.9423 - val_loss: 0.1499 - val_acc: 0.9370\n",
      "Epoch 29/50\n",
      "4000/4000 [==============================] - 14s 4ms/step - loss: 0.1365 - acc: 0.9437 - val_loss: 0.1780 - val_acc: 0.9200\n",
      "Epoch 30/50\n",
      "4000/4000 [==============================] - 14s 4ms/step - loss: 0.1373 - acc: 0.9463 - val_loss: 0.1487 - val_acc: 0.9400\n",
      "Epoch 31/50\n",
      "4000/4000 [==============================] - 14s 4ms/step - loss: 0.1348 - acc: 0.9460 - val_loss: 0.1893 - val_acc: 0.9230\n",
      "Epoch 32/50\n",
      "4000/4000 [==============================] - 14s 4ms/step - loss: 0.1327 - acc: 0.9475 - val_loss: 0.1853 - val_acc: 0.9170\n",
      "Epoch 33/50\n",
      "4000/4000 [==============================] - 14s 4ms/step - loss: 0.1319 - acc: 0.9440 - val_loss: 0.1475 - val_acc: 0.9400\n",
      "Epoch 34/50\n",
      "4000/4000 [==============================] - 14s 4ms/step - loss: 0.1313 - acc: 0.9495 - val_loss: 0.1428 - val_acc: 0.9430\n",
      "Epoch 35/50\n",
      "4000/4000 [==============================] - 14s 4ms/step - loss: 0.1322 - acc: 0.9470 - val_loss: 0.1574 - val_acc: 0.9340\n",
      "Epoch 36/50\n",
      "4000/4000 [==============================] - 14s 4ms/step - loss: 0.1301 - acc: 0.9487 - val_loss: 0.1491 - val_acc: 0.9390\n",
      "Epoch 37/50\n",
      "4000/4000 [==============================] - 14s 4ms/step - loss: 0.1300 - acc: 0.9455 - val_loss: 0.1459 - val_acc: 0.9380\n",
      "Epoch 38/50\n",
      "4000/4000 [==============================] - 14s 4ms/step - loss: 0.1297 - acc: 0.9467 - val_loss: 0.1513 - val_acc: 0.9370\n",
      "Epoch 39/50\n",
      "4000/4000 [==============================] - 14s 4ms/step - loss: 0.1264 - acc: 0.9477 - val_loss: 0.1787 - val_acc: 0.9320\n",
      "Epoch 40/50\n",
      "4000/4000 [==============================] - 14s 4ms/step - loss: 0.1236 - acc: 0.9493 - val_loss: 0.2017 - val_acc: 0.9070\n",
      "Epoch 41/50\n",
      "4000/4000 [==============================] - 14s 4ms/step - loss: 0.1222 - acc: 0.9532 - val_loss: 0.1501 - val_acc: 0.9410\n",
      "Epoch 42/50\n",
      "4000/4000 [==============================] - 14s 4ms/step - loss: 0.1184 - acc: 0.9547 - val_loss: 0.1564 - val_acc: 0.9350\n",
      "Epoch 43/50\n",
      "4000/4000 [==============================] - 14s 4ms/step - loss: 0.1207 - acc: 0.9470 - val_loss: 0.2223 - val_acc: 0.9030\n",
      "Epoch 44/50\n",
      "4000/4000 [==============================] - 14s 4ms/step - loss: 0.1187 - acc: 0.9543 - val_loss: 0.1632 - val_acc: 0.9370\n",
      "Epoch 45/50\n",
      "4000/4000 [==============================] - 14s 4ms/step - loss: 0.1198 - acc: 0.9485 - val_loss: 0.1480 - val_acc: 0.9420\n",
      "Epoch 46/50\n",
      "4000/4000 [==============================] - 14s 4ms/step - loss: 0.1174 - acc: 0.9535 - val_loss: 0.1570 - val_acc: 0.9320\n",
      "Epoch 47/50\n",
      "4000/4000 [==============================] - 14s 4ms/step - loss: 0.1130 - acc: 0.9560 - val_loss: 0.1643 - val_acc: 0.9370\n",
      "Epoch 48/50\n",
      "4000/4000 [==============================] - 14s 4ms/step - loss: 0.1148 - acc: 0.9535 - val_loss: 0.1482 - val_acc: 0.9420\n",
      "Epoch 49/50\n",
      "4000/4000 [==============================] - 14s 4ms/step - loss: 0.1103 - acc: 0.9592 - val_loss: 0.1517 - val_acc: 0.9360\n",
      "Epoch 50/50\n",
      "4000/4000 [==============================] - 14s 4ms/step - loss: 0.1188 - acc: 0.9515 - val_loss: 0.1480 - val_acc: 0.9420\n"
     ]
    },
    {
     "data": {
      "text/plain": [
       "<keras.callbacks.History at 0x7f0cffe3b940>"
      ]
     },
     "execution_count": 12,
     "metadata": {},
     "output_type": "execute_result"
    }
   ],
   "source": [
    "model.fit(train_data, train_label,\n",
    "          batch_size = 64,\n",
    "          epochs = 50,\n",
    "          validation_split = 0.2,\n",
    "          shuffle = True)"
   ]
  },
  {
   "cell_type": "code",
   "execution_count": 13,
   "metadata": {},
   "outputs": [
    {
     "name": "stdout",
     "output_type": "stream",
     "text": [
      "5000/5000 [==============================] - 14s 3ms/step\n",
      "[0.10275604767203331, 0.9636]\n"
     ]
    }
   ],
   "source": [
    "scores = model.evaluate(train_data, train_label, verbose = 1)\n",
    "print(scores)"
   ]
  },
  {
   "cell_type": "code",
   "execution_count": 14,
   "metadata": {},
   "outputs": [
    {
     "name": "stdout",
     "output_type": "stream",
     "text": [
      "5000/5000 [==============================] - 14s 3ms/step\n",
      "[188975.38695730382, 0.934]\n"
     ]
    }
   ],
   "source": [
    "scores = model.evaluate(test_data, test_label, verbose = 1)\n",
    "print(scores)"
   ]
  },
  {
   "cell_type": "code",
   "execution_count": null,
   "metadata": {},
   "outputs": [],
   "source": []
  }
 ],
 "metadata": {
  "kernelspec": {
   "display_name": "Python 3",
   "language": "python",
   "name": "python3"
  },
  "language_info": {
   "codemirror_mode": {
    "name": "ipython",
    "version": 3
   },
   "file_extension": ".py",
   "mimetype": "text/x-python",
   "name": "python",
   "nbconvert_exporter": "python",
   "pygments_lexer": "ipython3",
   "version": "3.5.1+"
  }
 },
 "nbformat": 4,
 "nbformat_minor": 2
}
